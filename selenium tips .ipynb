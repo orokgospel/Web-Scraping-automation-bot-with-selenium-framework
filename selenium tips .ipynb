{
 "cells": [
  {
   "cell_type": "code",
   "execution_count": 1,
   "metadata": {},
   "outputs": [],
   "source": [
    "from selenium import webdriver #this will help to carry out automation on the web browser "
   ]
  },
  {
   "cell_type": "code",
   "execution_count": null,
   "metadata": {},
   "outputs": [],
   "source": [
    "driver = webdriver.Chrome(\"C:/Users/LENOVO pc/SeleniumDrivers/chromedriver\")#set the path of webdriver\n",
    "\n",
    "#driver.get(\"--url---\")#set the get url address\n",
    "driver.get(\"https://www.seleniumeasy.com\")"
   ]
  },
  {
   "cell_type": "raw",
   "metadata": {},
   "source": [
    "-If you encounter error message such as:\n",
    "SessionNotCreatedException: Message: session not created: This version of ChromeDriver only supports Chrome version 95\n",
    "Current browser version is 104.0.5112.81 with binary path C:\\Program Files\\Google\\Chrome\\Application\\chrome.exe\n",
    "-Check or make sure you are using the current webdriver"
   ]
  },
  {
   "cell_type": "code",
   "execution_count": 3,
   "metadata": {},
   "outputs": [],
   "source": [
    "driver.implicitly_wait(10) #waiting time for any dowload"
   ]
  },
  {
   "cell_type": "code",
   "execution_count": null,
   "metadata": {},
   "outputs": [],
   "source": [
    "my_element=driver.find_element_by_link_text('selenium-tutorials')\n",
    "my_element.click()"
   ]
  },
  {
   "cell_type": "code",
   "execution_count": null,
   "metadata": {},
   "outputs": [],
   "source": [
    "my_element=driver.find_element_by_link_text('---')\n",
    "my_element.click()"
   ]
  },
  {
   "cell_type": "code",
   "execution_count": null,
   "metadata": {},
   "outputs": [],
   "source": [
    "#To interact with any web page using selenium, you need to first find webelement/s to perform any action on element."
   ]
  },
  {
   "cell_type": "code",
   "execution_count": null,
   "metadata": {},
   "outputs": [],
   "source": [
    "my_element=driver.find_element()\n",
    "my_element=driver.find_elements_by_class_name()\n",
    "my_element=driver.find_elements_by_link_text()\n",
    "my_element=driver.find_element_by_css_selector()\n",
    "my_element=driver.find_elements_by_tag_name()\n",
    "my_element=driver.find_elements_by_id()\n",
    "my_element=driver.find_elements_by_name()\n",
    "my_element=driver.find_elements_by_xpath"
   ]
  },
  {
   "cell_type": "code",
   "execution_count": null,
   "metadata": {},
   "outputs": [],
   "source": [
    "my_element=driver.find_elements_by_link_text()\n",
    "print(f\"{element.text==completed!}\")"
   ]
  },
  {
   "cell_type": "code",
   "execution_count": null,
   "metadata": {},
   "outputs": [],
   "source": []
  },
  {
   "cell_type": "code",
   "execution_count": null,
   "metadata": {},
   "outputs": [],
   "source": []
  }
 ],
 "metadata": {
  "kernelspec": {
   "display_name": "Python 3",
   "language": "python",
   "name": "python3"
  },
  "language_info": {
   "codemirror_mode": {
    "name": "ipython",
    "version": 3
   },
   "file_extension": ".py",
   "mimetype": "text/x-python",
   "name": "python",
   "nbconvert_exporter": "python",
   "pygments_lexer": "ipython3",
   "version": "3.7.4"
  }
 },
 "nbformat": 4,
 "nbformat_minor": 2
}
