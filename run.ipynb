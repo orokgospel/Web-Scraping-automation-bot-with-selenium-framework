{
 "cells": [
  {
   "cell_type": "code",
   "execution_count": 6,
   "metadata": {},
   "outputs": [
    {
     "ename": "ImportError",
     "evalue": "cannot import name 'Booking' from 'booking' (C:\\Users\\LENOVO pc\\AI & ML PGP UNIVERSITY OF TEXAS\\Web_Scrapin_bot_Automation\\booking\\__init__.py)",
     "output_type": "error",
     "traceback": [
      "\u001b[1;31m---------------------------------------------------------------------------\u001b[0m",
      "\u001b[1;31mImportError\u001b[0m                               Traceback (most recent call last)",
      "\u001b[1;32m<ipython-input-6-a965c4b5acc0>\u001b[0m in \u001b[0;36m<module>\u001b[1;34m\u001b[0m\n\u001b[1;32m----> 1\u001b[1;33m \u001b[1;32mfrom\u001b[0m \u001b[0mbooking\u001b[0m \u001b[1;32mimport\u001b[0m \u001b[0mBooking\u001b[0m\u001b[1;33m\u001b[0m\u001b[1;33m\u001b[0m\u001b[0m\n\u001b[0m\u001b[0;32m      2\u001b[0m \u001b[0minst\u001b[0m \u001b[1;33m=\u001b[0m \u001b[0mBooking\u001b[0m\u001b[1;33m(\u001b[0m\u001b[1;33m)\u001b[0m\u001b[1;33m\u001b[0m\u001b[1;33m\u001b[0m\u001b[0m\n\u001b[0;32m      3\u001b[0m \u001b[1;32mtry\u001b[0m\u001b[1;33m:\u001b[0m\u001b[1;33m\u001b[0m\u001b[1;33m\u001b[0m\u001b[0m\n\u001b[0;32m      4\u001b[0m     \u001b[1;32mwith\u001b[0m \u001b[0mBooking\u001b[0m\u001b[1;33m(\u001b[0m\u001b[1;33m)\u001b[0m \u001b[1;32mas\u001b[0m \u001b[0mbot\u001b[0m\u001b[1;33m:\u001b[0m\u001b[1;33m\u001b[0m\u001b[1;33m\u001b[0m\u001b[0m\n\u001b[0;32m      5\u001b[0m         \u001b[1;31m# a=2/0\u001b[0m\u001b[1;33m\u001b[0m\u001b[1;33m\u001b[0m\u001b[1;33m\u001b[0m\u001b[0m\n",
      "\u001b[1;31mImportError\u001b[0m: cannot import name 'Booking' from 'booking' (C:\\Users\\LENOVO pc\\AI & ML PGP UNIVERSITY OF TEXAS\\Web_Scrapin_bot_Automation\\booking\\__init__.py)"
     ]
    }
   ],
   "source": [
    "from booking import Booking\n",
    "inst = Booking()\n",
    "try:\n",
    "    with Booking() as bot:\n",
    "        # a=2/0\n",
    "        bot.land_first_page()\n",
    "        # print('Exiting')\n",
    "        bot.change_currency(currency='USD')\n",
    "        bot.select_place_to_go(input(\"Where do you want to go?\"))\n",
    "        bot.select_dates(check_in_date=input(\"What is the check in date?\"),\n",
    "                         check_out_date=input(\"What is the check out date?\"))\n",
    "        bot.select_adults(input = int(input(\"How many people?\")))\n",
    "        bot.click_search()\n",
    "        bot.apply_filtrations()\n",
    "        # print(len(bot.report_results()))\n",
    "        bot.refresh()  # A work round to let our bot grab our data properly\n",
    "        bot.report_results()\n",
    "\n",
    "except Exception as e:\n",
    "    if 'in PATH' in str(e):\n",
    "        print('There is a problem running this programme from command line interface \\n'\n",
    "        'for windows: PATH=%PATH%;path_to_your_folder \\n'\n",
    "              'for Linux:PATH=$PATH:/path/to your folder/')\n",
    "    else:\n",
    "        raise\n",
    "    "
   ]
  },
  {
   "cell_type": "code",
   "execution_count": null,
   "metadata": {},
   "outputs": [],
   "source": []
  },
  {
   "cell_type": "code",
   "execution_count": null,
   "metadata": {},
   "outputs": [],
   "source": [
    "#pip install prettytable\n",
    "#if you are runing ur programme on command interface"
   ]
  },
  {
   "cell_type": "code",
   "execution_count": null,
   "metadata": {},
   "outputs": [],
   "source": [
    "\n",
    "    "
   ]
  },
  {
   "cell_type": "code",
   "execution_count": null,
   "metadata": {},
   "outputs": [],
   "source": []
  },
  {
   "cell_type": "code",
   "execution_count": null,
   "metadata": {},
   "outputs": [],
   "source": []
  },
  {
   "cell_type": "code",
   "execution_count": null,
   "metadata": {},
   "outputs": [],
   "source": []
  },
  {
   "cell_type": "code",
   "execution_count": null,
   "metadata": {},
   "outputs": [],
   "source": []
  }
 ],
 "metadata": {
  "kernelspec": {
   "display_name": "Python 3",
   "language": "python",
   "name": "python3"
  },
  "language_info": {
   "codemirror_mode": {
    "name": "ipython",
    "version": 3
   },
   "file_extension": ".py",
   "mimetype": "text/x-python",
   "name": "python",
   "nbconvert_exporter": "python",
   "pygments_lexer": "ipython3",
   "version": "3.7.4"
  }
 },
 "nbformat": 4,
 "nbformat_minor": 2
}
